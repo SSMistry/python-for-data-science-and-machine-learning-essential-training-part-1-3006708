{
 "cells": [
  {
   "cell_type": "code",
   "execution_count": 4,
   "metadata": {},
   "outputs": [
    {
     "name": "stdout",
     "output_type": "stream",
     "text": [
      "Your number doubled is 6\n"
     ]
    }
   ],
   "source": [
    "num = int(input(\"Give me a number: \"))\n",
    "output = num+num\n",
    "print(f\"Your number doubled is\",output)"
   ]
  },
  {
   "cell_type": "code",
   "execution_count": null,
   "metadata": {},
   "outputs": [],
   "source": [
    "list = [\"red\", \"yellow\", \"orange\"]\n",
    "print(f\"current list:\", list)\n",
    "\n",
    "list.append(\"Brown\")\n",
    "print(f\"current list:\", list)\n",
    "\n",
    "list.remove(\"yellow\")\n",
    "print(f\"current list:\", list)\n",
    "\n",
    "print(f\"new list:\", list)"
   ]
  },
  {
   "cell_type": "code",
   "execution_count": null,
   "metadata": {},
   "outputs": [],
   "source": [
    "prices = {\"laptop\":1000, \"mouse\":25, \"keyboard\":100}\n",
    "print(f\"Current prices\",prices)\n",
    "\n",
    "prices[\"Monitor\"]=250 \n",
    "prices[\"keyboard\"]=80\n",
    "print(f\"Current prices\",prices)"
   ]
  },
  {
   "cell_type": "code",
   "execution_count": null,
   "metadata": {},
   "outputs": [],
   "source": [
    "list = [\"red\", \"yellow\", \"orange\", \"brown\", \"dandelion\", \"mahogany\"]\n",
    "length = 6\n",
    "empty = []\n",
    "\n",
    "for name in list:\n",
    "  if len(name) <= length:\n",
    "    empty.append(name)\n",
    "\n",
    "print(empty)\n"
   ]
  },
  {
   "cell_type": "code",
   "execution_count": null,
   "metadata": {},
   "outputs": [],
   "source": [
    "while True:\n",
    "  print(\"menu:\")\n",
    "  print(\"A\")\n",
    "  print(\"B\")\n",
    "  print(\"C\")\n",
    "\n",
    "  choice = input(\"Choose an option: \")\n",
    "\n",
    "  if choice == \"A\":\n",
    "    print(\"A selected\")\n",
    "    break\n",
    "  elif choice == \"B\":\n",
    "    print(\"B selected\")\n",
    "    break\n",
    "  elif choice == \"C\":\n",
    "    print(\"Close selected\")\n",
    "    break\n",
    "  else:\n",
    "    print(\"Invalid\")"
   ]
  },
  {
   "cell_type": "code",
   "execution_count": null,
   "metadata": {},
   "outputs": [],
   "source": [
    "def string_rev(string):\n",
    "  return string[::-1]\n",
    "\n",
    "string = input(\"Input a string: \")\n",
    "output = string_rev(string)\n",
    "print(f\"The given string has been reversed and is now {output}\")"
   ]
  },
  {
   "cell_type": "code",
   "execution_count": null,
   "metadata": {},
   "outputs": [],
   "source": [
    "nums = [1,4,8,14,19,25]\n",
    "total = sum(nums)\n",
    "av = total/len(nums)\n",
    "print(\"Sum:\",total)\n",
    "print(\"Average:\", av)"
   ]
  },
  {
   "cell_type": "code",
   "execution_count": null,
   "metadata": {},
   "outputs": [],
   "source": [
    "text = \"Python is a popular programming language, which is good\"\n",
    "\n",
    "word_freq = {}\n",
    "words = text.split()\n",
    "for word in words:\n",
    "  word_freq[word] = word_freq.get(word, 0)+1\n",
    "print(\"Word Frequency:\", word_freq)"
   ]
  },
  {
   "cell_type": "code",
   "execution_count": null,
   "metadata": {},
   "outputs": [],
   "source": [
    "name = \"Jeff\"\n",
    "age = 25\n",
    "\n",
    "message = \"Hello, my name is {} and I am {}.\".format(name, age)\n",
    "\n",
    "print(message)"
   ]
  },
  {
   "cell_type": "code",
   "execution_count": null,
   "metadata": {},
   "outputs": [],
   "source": [
    "words = [\"Python\", \"programming\", \"is\", \"popular\"]\n",
    "\n",
    "sentence = ' '.join(words)\n",
    "\n",
    "print(sentence)\n"
   ]
  },
  {
   "cell_type": "code",
   "execution_count": null,
   "metadata": {},
   "outputs": [],
   "source": [
    "with open(\"parsed_data.txt\",\"r\") as file:\n",
    "  contents = file.read()\n",
    "\n",
    "print(contents)"
   ]
  },
  {
   "cell_type": "code",
   "execution_count": null,
   "metadata": {},
   "outputs": [],
   "source": [
    "#palindrome check\n",
    "input_word = \"no lemon no melon\"\n",
    "clean = input_word.strip().replace(\" \",\"\")\n",
    "\n",
    "if clean == clean[::-1]:\n",
    "  print(clean)\n",
    "else:\n",
    "  print(f\"{clean} is not a palindrome\")"
   ]
  },
  {
   "cell_type": "code",
   "execution_count": 8,
   "metadata": {},
   "outputs": [
    {
     "name": "stdout",
     "output_type": "stream",
     "text": [
      "Factorial of 5 is: 1\n",
      "Factorial of 5 is: 2\n",
      "Factorial of 5 is: 6\n",
      "Factorial of 5 is: 24\n",
      "Factorial of 5 is: 120\n"
     ]
    }
   ],
   "source": [
    "num = int(input(\"Give me a number: \"))\n",
    "fact = 1\n",
    "\n",
    "if num > 0:\n",
    "  for i in range(1, num + 1):\n",
    "    fact *= i\n",
    "    print(\"Factorial of\", num, \"is:\", fact)\n",
    "else:\n",
    "    print(\"Factorial is not defined for negative numbers.\")"
   ]
  },
  {
   "cell_type": "code",
   "execution_count": 1,
   "metadata": {},
   "outputs": [
    {
     "name": "stdout",
     "output_type": "stream",
     "text": [
      "[6, 12, 16]\n"
     ]
    }
   ],
   "source": [
    "list1 = [1,6,9,12,16,17,21]\n",
    "list2 = []\n",
    "\n",
    "for num in list1:\n",
    "  if num%2 == 0:\n",
    "    list2.append(num)\n",
    "  \n",
    "print(list2)"
   ]
  },
  {
   "cell_type": "code",
   "execution_count": null,
   "metadata": {},
   "outputs": [],
   "source": []
  }
 ],
 "metadata": {
  "kernelspec": {
   "display_name": "Python 3",
   "language": "python",
   "name": "python3"
  },
  "language_info": {
   "codemirror_mode": {
    "name": "ipython",
    "version": 3
   },
   "file_extension": ".py",
   "mimetype": "text/x-python",
   "name": "python",
   "nbconvert_exporter": "python",
   "pygments_lexer": "ipython3",
   "version": "3.10.13"
  }
 },
 "nbformat": 4,
 "nbformat_minor": 2
}
